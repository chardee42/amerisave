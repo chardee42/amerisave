{
 "cells": [
  {
   "cell_type": "markdown",
   "metadata": {
    "application/vnd.databricks.v1+cell": {
     "cellMetadata": {},
     "inputWidgets": {},
     "nuid": "c46feac0-2710-42a4-9159-4c691a7dbde9",
     "showTitle": false,
     "tableResultSettingsMap": {},
     "title": ""
    }
   },
   "source": [
    "# AmeriSave Assignment\n",
    "\n",
    "This was a fascinating test. I realized after working with the data that the underlying challenge is, \"How do we define what is 'best'?\"\n",
    "\n",
    "Output:\n",
    "Return a stack-ranked list of travel agents ordered from best to worst.\n",
    "\n",
    "I started with customer rating.\n",
    "Please follow along as I've documented my journey "
   ]
  },
  {
   "cell_type": "markdown",
   "metadata": {
    "application/vnd.databricks.v1+cell": {
     "cellMetadata": {},
     "inputWidgets": {},
     "nuid": "96da14bd-f0d0-4b73-8a52-f0159600e878",
     "showTitle": false,
     "tableResultSettingsMap": {},
     "title": ""
    }
   },
   "source": [
    "## Research the tables (what's in them?)\n",
    "Even though I had the table creation commands, I wanted to see what was in each table to get a better understanding of how they could be linked."
   ]
  },
  {
   "cell_type": "code",
   "execution_count": 0,
   "metadata": {
    "application/vnd.databricks.v1+cell": {
     "cellMetadata": {
      "byteLimit": 2048000,
      "rowLimit": 10000
     },
     "inputWidgets": {},
     "nuid": "39f54a88-bc5e-43e6-a798-2c14746d2a1e",
     "showTitle": false,
     "tableResultSettingsMap": {
      "0": {
       "dataGridStateBlob": "{\"version\":1,\"tableState\":{\"columnPinning\":{\"left\":[\"#row_number#\"],\"right\":[]},\"columnSizing\":{},\"columnVisibility\":{}},\"settings\":{\"columns\":{}},\"syncTimestamp\":1752412783052}",
       "filterBlob": null,
       "queryPlanFiltersBlob": null,
       "tableResultIndex": 0
      }
     },
     "title": ""
    }
   },
   "outputs": [
    {
     "output_type": "display_data",
     "data": {
      "text/html": [
       "<style scoped>\n",
       "  .table-result-container {\n",
       "    max-height: 300px;\n",
       "    overflow: auto;\n",
       "  }\n",
       "  table, th, td {\n",
       "    border: 1px solid black;\n",
       "    border-collapse: collapse;\n",
       "  }\n",
       "  th, td {\n",
       "    padding: 5px;\n",
       "  }\n",
       "  th {\n",
       "    text-align: left;\n",
       "  }\n",
       "</style><div class='table-result-container'><table class='table-result'><thead style='background-color: white'><tr><th>AssignmentID</th><th>AgentID</th><th>CustomerName</th><th>CommunicationMethod</th><th>LeadSource</th><th>AssignedDateTime</th></tr></thead><tbody><tr><td>1</td><td>7</td><td>Evelyn Brooks</td><td>Phone Call</td><td>Organic</td><td>2081-02-01T09:00:00Z</td></tr><tr><td>2</td><td>14</td><td>Lucas Chen</td><td>Text</td><td>Bought</td><td>2081-02-01T10:30:00Z</td></tr><tr><td>3</td><td>3</td><td>Amara Patel</td><td>Text</td><td>Organic</td><td>2081-02-01T11:15:00Z</td></tr><tr><td>4</td><td>25</td><td>Jasper Kim</td><td>Phone Call</td><td>Bought</td><td>2081-02-01T13:00:00Z</td></tr><tr><td>5</td><td>7</td><td>Zara Singh</td><td>Text</td><td>Organic</td><td>2081-02-01T14:20:00Z</td></tr><tr><td>6</td><td>17</td><td>Milo Davis</td><td>Phone Call</td><td>Bought</td><td>2081-02-02T09:45:00Z</td></tr><tr><td>7</td><td>9</td><td>Aurora Ramirez</td><td>Text</td><td>Organic</td><td>2081-02-02T10:10:00Z</td></tr><tr><td>8</td><td>14</td><td>Theo White</td><td>Phone Call</td><td>Organic</td><td>2081-02-02T11:55:00Z</td></tr><tr><td>9</td><td>28</td><td>Isla Nguyen</td><td>Text</td><td>Bought</td><td>2081-02-02T13:40:00Z</td></tr><tr><td>10</td><td>1</td><td>Rowan Scott</td><td>Phone Call</td><td>Organic</td><td>2081-02-02T15:00:00Z</td></tr></tbody></table></div>"
      ]
     },
     "metadata": {
      "application/vnd.databricks.v1+output": {
       "addedWidgets": {},
       "aggData": [],
       "aggError": "",
       "aggOverflow": false,
       "aggSchema": [],
       "aggSeriesLimitReached": false,
       "aggType": "",
       "arguments": {},
       "columnCustomDisplayInfos": {},
       "data": [
        [
         1,
         7,
         "Evelyn Brooks",
         "Phone Call",
         "Organic",
         "2081-02-01T09:00:00Z"
        ],
        [
         2,
         14,
         "Lucas Chen",
         "Text",
         "Bought",
         "2081-02-01T10:30:00Z"
        ],
        [
         3,
         3,
         "Amara Patel",
         "Text",
         "Organic",
         "2081-02-01T11:15:00Z"
        ],
        [
         4,
         25,
         "Jasper Kim",
         "Phone Call",
         "Bought",
         "2081-02-01T13:00:00Z"
        ],
        [
         5,
         7,
         "Zara Singh",
         "Text",
         "Organic",
         "2081-02-01T14:20:00Z"
        ],
        [
         6,
         17,
         "Milo Davis",
         "Phone Call",
         "Bought",
         "2081-02-02T09:45:00Z"
        ],
        [
         7,
         9,
         "Aurora Ramirez",
         "Text",
         "Organic",
         "2081-02-02T10:10:00Z"
        ],
        [
         8,
         14,
         "Theo White",
         "Phone Call",
         "Organic",
         "2081-02-02T11:55:00Z"
        ],
        [
         9,
         28,
         "Isla Nguyen",
         "Text",
         "Bought",
         "2081-02-02T13:40:00Z"
        ],
        [
         10,
         1,
         "Rowan Scott",
         "Phone Call",
         "Organic",
         "2081-02-02T15:00:00Z"
        ]
       ],
       "datasetInfos": [],
       "dbfsResultPath": null,
       "isJsonSchema": true,
       "metadata": {
        "isDbfsCommandResult": false
       },
       "overflow": false,
       "plotOptions": {
        "customPlotOptions": {},
        "displayType": "table",
        "pivotAggregation": null,
        "pivotColumns": null,
        "xColumns": null,
        "yColumns": null
       },
       "removedWidgets": [],
       "schema": [
        {
         "metadata": "{}",
         "name": "AssignmentID",
         "type": "\"integer\""
        },
        {
         "metadata": "{}",
         "name": "AgentID",
         "type": "\"integer\""
        },
        {
         "metadata": "{\"__CHAR_VARCHAR_TYPE_STRING\":\"varchar(100)\"}",
         "name": "CustomerName",
         "type": "\"string\""
        },
        {
         "metadata": "{\"__CHAR_VARCHAR_TYPE_STRING\":\"varchar(20)\"}",
         "name": "CommunicationMethod",
         "type": "\"string\""
        },
        {
         "metadata": "{\"__CHAR_VARCHAR_TYPE_STRING\":\"varchar(20)\"}",
         "name": "LeadSource",
         "type": "\"string\""
        },
        {
         "metadata": "{}",
         "name": "AssignedDateTime",
         "type": "\"timestamp\""
        }
       ],
       "type": "table"
      }
     },
     "output_type": "display_data"
    }
   ],
   "source": [
    "select * from assignment_history limit 10;\n"
   ]
  },
  {
   "cell_type": "code",
   "execution_count": 0,
   "metadata": {
    "application/vnd.databricks.v1+cell": {
     "cellMetadata": {
      "byteLimit": 2048000,
      "rowLimit": 10000
     },
     "inputWidgets": {},
     "nuid": "85198ff5-ed04-4a4a-a891-384e42558332",
     "showTitle": false,
     "tableResultSettingsMap": {},
     "title": ""
    }
   },
   "outputs": [
    {
     "output_type": "display_data",
     "data": {
      "text/html": [
       "<style scoped>\n",
       "  .table-result-container {\n",
       "    max-height: 300px;\n",
       "    overflow: auto;\n",
       "  }\n",
       "  table, th, td {\n",
       "    border: 1px solid black;\n",
       "    border-collapse: collapse;\n",
       "  }\n",
       "  th, td {\n",
       "    padding: 5px;\n",
       "  }\n",
       "  th {\n",
       "    text-align: left;\n",
       "  }\n",
       "</style><div class='table-result-container'><table class='table-result'><thead style='background-color: white'><tr><th>BookingID</th><th>AssignmentID</th><th>BookingCompleteDate</th><th>CancelledDate</th><th>Destination</th><th>Package</th><th>LaunchLocation</th><th>DestinationRevenue</th><th>PackageRevenue</th><th>TotalRevenue</th><th>BookingStatus</th></tr></thead><tbody><tr><td>1</td><td>1</td><td>2081-02-01T10:00:00Z</td><td>null</td><td>Mars</td><td>Luxury Dome Stay</td><td>Dallas-Fort Worth Launch Complex</td><td>150000.00</td><td>25000.00</td><td>175000.00</td><td>Confirmed</td></tr><tr><td>2</td><td>2</td><td>null</td><td>2081-02-01T11:00:00Z</td><td>Europa</td><td>Zero-Gravity Yacht Cruise</td><td>New York Orbital Gateway</td><td>120000.00</td><td>20000.00</td><td>140000.00</td><td>Cancelled</td></tr><tr><td>3</td><td>4</td><td>2081-02-01T13:30:00Z</td><td>null</td><td>Titan</td><td>Ringside Cruise</td><td>Dubai Interplanetary Hub</td><td>140000.00</td><td>30000.00</td><td>170000.00</td><td>Confirmed</td></tr><tr><td>4</td><td>5</td><td>null</td><td>2081-02-01T15:10:00Z</td><td>Mars</td><td>Luxury Dome Stay</td><td>Dallas-Fort Worth Launch Complex</td><td>150000.00</td><td>25000.00</td><td>175000.00</td><td>Cancelled</td></tr><tr><td>5</td><td>6</td><td>2081-02-02T10:00:00Z</td><td>null</td><td>Venus</td><td>Cloud City Excursion</td><td>Tokyo Spaceport Terminal</td><td>130000.00</td><td>25000.00</td><td>155000.00</td><td>Confirmed</td></tr><tr><td>6</td><td>8</td><td>2081-02-02T12:00:00Z</td><td>null</td><td>Mars</td><td>Luxury Dome Stay</td><td>New York Orbital Gateway</td><td>150000.00</td><td>30000.00</td><td>180000.00</td><td>Confirmed</td></tr><tr><td>7</td><td>9</td><td>null</td><td>null</td><td>Europa</td><td>Glacier Trek Adventure</td><td>London Ascension Platform</td><td>125000.00</td><td>20000.00</td><td>145000.00</td><td>Pending</td></tr><tr><td>8</td><td>10</td><td>2081-02-02T15:30:00Z</td><td>null</td><td>Ganymede</td><td>Private Observatory Suite</td><td>Sydney Stellar Port</td><td>110000.00</td><td>15000.00</td><td>125000.00</td><td>Confirmed</td></tr><tr><td>9</td><td>11</td><td>null</td><td>2081-02-03T10:00:00Z</td><td>Titan</td><td>Ringside Cruise</td><td>Dubai Interplanetary Hub</td><td>140000.00</td><td>25000.00</td><td>165000.00</td><td>Cancelled</td></tr><tr><td>10</td><td>13</td><td>2081-02-03T11:30:00Z</td><td>null</td><td>Mars</td><td>Luxury Dome Stay</td><td>Dallas-Fort Worth Launch Complex</td><td>150000.00</td><td>25000.00</td><td>175000.00</td><td>Confirmed</td></tr></tbody></table></div>"
      ]
     },
     "metadata": {
      "application/vnd.databricks.v1+output": {
       "addedWidgets": {},
       "aggData": [],
       "aggError": "",
       "aggOverflow": false,
       "aggSchema": [],
       "aggSeriesLimitReached": false,
       "aggType": "",
       "arguments": {},
       "columnCustomDisplayInfos": {},
       "data": [
        [
         1,
         1,
         "2081-02-01T10:00:00Z",
         null,
         "Mars",
         "Luxury Dome Stay",
         "Dallas-Fort Worth Launch Complex",
         "150000.00",
         "25000.00",
         "175000.00",
         "Confirmed"
        ],
        [
         2,
         2,
         null,
         "2081-02-01T11:00:00Z",
         "Europa",
         "Zero-Gravity Yacht Cruise",
         "New York Orbital Gateway",
         "120000.00",
         "20000.00",
         "140000.00",
         "Cancelled"
        ],
        [
         3,
         4,
         "2081-02-01T13:30:00Z",
         null,
         "Titan",
         "Ringside Cruise",
         "Dubai Interplanetary Hub",
         "140000.00",
         "30000.00",
         "170000.00",
         "Confirmed"
        ],
        [
         4,
         5,
         null,
         "2081-02-01T15:10:00Z",
         "Mars",
         "Luxury Dome Stay",
         "Dallas-Fort Worth Launch Complex",
         "150000.00",
         "25000.00",
         "175000.00",
         "Cancelled"
        ],
        [
         5,
         6,
         "2081-02-02T10:00:00Z",
         null,
         "Venus",
         "Cloud City Excursion",
         "Tokyo Spaceport Terminal",
         "130000.00",
         "25000.00",
         "155000.00",
         "Confirmed"
        ],
        [
         6,
         8,
         "2081-02-02T12:00:00Z",
         null,
         "Mars",
         "Luxury Dome Stay",
         "New York Orbital Gateway",
         "150000.00",
         "30000.00",
         "180000.00",
         "Confirmed"
        ],
        [
         7,
         9,
         null,
         null,
         "Europa",
         "Glacier Trek Adventure",
         "London Ascension Platform",
         "125000.00",
         "20000.00",
         "145000.00",
         "Pending"
        ],
        [
         8,
         10,
         "2081-02-02T15:30:00Z",
         null,
         "Ganymede",
         "Private Observatory Suite",
         "Sydney Stellar Port",
         "110000.00",
         "15000.00",
         "125000.00",
         "Confirmed"
        ],
        [
         9,
         11,
         null,
         "2081-02-03T10:00:00Z",
         "Titan",
         "Ringside Cruise",
         "Dubai Interplanetary Hub",
         "140000.00",
         "25000.00",
         "165000.00",
         "Cancelled"
        ],
        [
         10,
         13,
         "2081-02-03T11:30:00Z",
         null,
         "Mars",
         "Luxury Dome Stay",
         "Dallas-Fort Worth Launch Complex",
         "150000.00",
         "25000.00",
         "175000.00",
         "Confirmed"
        ]
       ],
       "datasetInfos": [],
       "dbfsResultPath": null,
       "isJsonSchema": true,
       "metadata": {
        "isDbfsCommandResult": false
       },
       "overflow": false,
       "plotOptions": {
        "customPlotOptions": {},
        "displayType": "table",
        "pivotAggregation": null,
        "pivotColumns": null,
        "xColumns": null,
        "yColumns": null
       },
       "removedWidgets": [],
       "schema": [
        {
         "metadata": "{}",
         "name": "BookingID",
         "type": "\"integer\""
        },
        {
         "metadata": "{}",
         "name": "AssignmentID",
         "type": "\"integer\""
        },
        {
         "metadata": "{}",
         "name": "BookingCompleteDate",
         "type": "\"timestamp\""
        },
        {
         "metadata": "{}",
         "name": "CancelledDate",
         "type": "\"timestamp\""
        },
        {
         "metadata": "{\"__CHAR_VARCHAR_TYPE_STRING\":\"varchar(50)\"}",
         "name": "Destination",
         "type": "\"string\""
        },
        {
         "metadata": "{\"__CHAR_VARCHAR_TYPE_STRING\":\"varchar(100)\"}",
         "name": "Package",
         "type": "\"string\""
        },
        {
         "metadata": "{\"__CHAR_VARCHAR_TYPE_STRING\":\"varchar(100)\"}",
         "name": "LaunchLocation",
         "type": "\"string\""
        },
        {
         "metadata": "{}",
         "name": "DestinationRevenue",
         "type": "\"decimal(12,2)\""
        },
        {
         "metadata": "{}",
         "name": "PackageRevenue",
         "type": "\"decimal(12,2)\""
        },
        {
         "metadata": "{}",
         "name": "TotalRevenue",
         "type": "\"decimal(12,2)\""
        },
        {
         "metadata": "{\"__CHAR_VARCHAR_TYPE_STRING\":\"varchar(20)\"}",
         "name": "BookingStatus",
         "type": "\"string\""
        }
       ],
       "type": "table"
      }
     },
     "output_type": "display_data"
    }
   ],
   "source": [
    "select * from bookings limit 10;\n"
   ]
  },
  {
   "cell_type": "code",
   "execution_count": 0,
   "metadata": {
    "application/vnd.databricks.v1+cell": {
     "cellMetadata": {
      "byteLimit": 2048000,
      "rowLimit": 10000
     },
     "inputWidgets": {},
     "nuid": "afcc8351-7467-4a2f-8d2e-5e646b732eb3",
     "showTitle": false,
     "tableResultSettingsMap": {},
     "title": ""
    }
   },
   "outputs": [
    {
     "output_type": "display_data",
     "data": {
      "text/html": [
       "<style scoped>\n",
       "  .table-result-container {\n",
       "    max-height: 300px;\n",
       "    overflow: auto;\n",
       "  }\n",
       "  table, th, td {\n",
       "    border: 1px solid black;\n",
       "    border-collapse: collapse;\n",
       "  }\n",
       "  th, td {\n",
       "    padding: 5px;\n",
       "  }\n",
       "  th {\n",
       "    text-align: left;\n",
       "  }\n",
       "</style><div class='table-result-container'><table class='table-result'><thead style='background-color: white'><tr><th>AgentID</th><th>FirstName</th><th>LastName</th><th>Email</th><th>JobTitle</th><th>DepartmentName</th><th>ManagerName</th><th>SpaceLicenseNumber</th><th>YearsOfService</th><th>AverageCustomerServiceRating</th></tr></thead><tbody><tr><td>1</td><td>Aurora</td><td>Tanaka</td><td>aurora.tanaka@astra2081.com</td><td>Senior Space Travel Agent</td><td>Interplanetary Sales</td><td>Lyra Chen</td><td>SL-2081-001</td><td>12</td><td>4.0</td></tr><tr><td>2</td><td>Kai</td><td>Rodriguez</td><td>kai.rodriguez@astra2081.com</td><td>Space Travel Agent</td><td>Luxury Voyages</td><td>Lyra Chen</td><td>SL-2081-002</td><td>7</td><td>4.0</td></tr><tr><td>3</td><td>Nova</td><td>Singh</td><td>nova.singh@astra2081.com</td><td>Senior Space Travel Agent</td><td>Premium Bookings</td><td>Zane Holloway</td><td>SL-2081-003</td><td>15</td><td>4.0</td></tr><tr><td>4</td><td>Leo</td><td>Kim</td><td>leo.kim@astra2081.com</td><td>Space Travel Agent</td><td>Interplanetary Sales</td><td>Lyra Chen</td><td>SL-2081-004</td><td>5</td><td>4.0</td></tr><tr><td>5</td><td>Vera</td><td>Nguyen</td><td>vera.nguyen@astra2081.com</td><td>Space Travel Agent</td><td>Luxury Voyages</td><td>Zane Holloway</td><td>SL-2081-005</td><td>3</td><td>3.9</td></tr><tr><td>6</td><td>Soren</td><td>Baker</td><td>soren.baker@astra2081.com</td><td>Lead Space Travel Agent</td><td>Premium Bookings</td><td>Zane Holloway</td><td>SL-2081-006</td><td>18</td><td>4.6</td></tr><tr><td>7</td><td>Mira</td><td>Patel</td><td>mira.patel@astra2081.com</td><td>Space Travel Agent</td><td>Interplanetary Sales</td><td>Lyra Chen</td><td>SL-2081-007</td><td>4</td><td>4.5</td></tr><tr><td>8</td><td>Orion</td><td>Davis</td><td>orion.davis@astra2081.com</td><td>Senior Space Travel Agent</td><td>Luxury Voyages</td><td>Zane Holloway</td><td>SL-2081-008</td><td>10</td><td>4.4</td></tr><tr><td>9</td><td>Luna</td><td>Martinez</td><td>luna.martinez@astra2081.com</td><td>Space Travel Agent</td><td>Premium Bookings</td><td>Zane Holloway</td><td>SL-2081-009</td><td>6</td><td>4.4</td></tr><tr><td>10</td><td>Zara</td><td>Khan</td><td>zara.khan@astra2081.com</td><td>Space Travel Agent</td><td>Luxury Voyages</td><td>Lyra Chen</td><td>SL-2081-010</td><td>2</td><td>4.0</td></tr></tbody></table></div>"
      ]
     },
     "metadata": {
      "application/vnd.databricks.v1+output": {
       "addedWidgets": {},
       "aggData": [],
       "aggError": "",
       "aggOverflow": false,
       "aggSchema": [],
       "aggSeriesLimitReached": false,
       "aggType": "",
       "arguments": {},
       "columnCustomDisplayInfos": {},
       "data": [
        [
         1,
         "Aurora",
         "Tanaka",
         "aurora.tanaka@astra2081.com",
         "Senior Space Travel Agent",
         "Interplanetary Sales",
         "Lyra Chen",
         "SL-2081-001",
         12,
         4.0
        ],
        [
         2,
         "Kai",
         "Rodriguez",
         "kai.rodriguez@astra2081.com",
         "Space Travel Agent",
         "Luxury Voyages",
         "Lyra Chen",
         "SL-2081-002",
         7,
         4.0
        ],
        [
         3,
         "Nova",
         "Singh",
         "nova.singh@astra2081.com",
         "Senior Space Travel Agent",
         "Premium Bookings",
         "Zane Holloway",
         "SL-2081-003",
         15,
         4.0
        ],
        [
         4,
         "Leo",
         "Kim",
         "leo.kim@astra2081.com",
         "Space Travel Agent",
         "Interplanetary Sales",
         "Lyra Chen",
         "SL-2081-004",
         5,
         4.0
        ],
        [
         5,
         "Vera",
         "Nguyen",
         "vera.nguyen@astra2081.com",
         "Space Travel Agent",
         "Luxury Voyages",
         "Zane Holloway",
         "SL-2081-005",
         3,
         3.9
        ],
        [
         6,
         "Soren",
         "Baker",
         "soren.baker@astra2081.com",
         "Lead Space Travel Agent",
         "Premium Bookings",
         "Zane Holloway",
         "SL-2081-006",
         18,
         4.6
        ],
        [
         7,
         "Mira",
         "Patel",
         "mira.patel@astra2081.com",
         "Space Travel Agent",
         "Interplanetary Sales",
         "Lyra Chen",
         "SL-2081-007",
         4,
         4.5
        ],
        [
         8,
         "Orion",
         "Davis",
         "orion.davis@astra2081.com",
         "Senior Space Travel Agent",
         "Luxury Voyages",
         "Zane Holloway",
         "SL-2081-008",
         10,
         4.4
        ],
        [
         9,
         "Luna",
         "Martinez",
         "luna.martinez@astra2081.com",
         "Space Travel Agent",
         "Premium Bookings",
         "Zane Holloway",
         "SL-2081-009",
         6,
         4.4
        ],
        [
         10,
         "Zara",
         "Khan",
         "zara.khan@astra2081.com",
         "Space Travel Agent",
         "Luxury Voyages",
         "Lyra Chen",
         "SL-2081-010",
         2,
         4.0
        ]
       ],
       "datasetInfos": [],
       "dbfsResultPath": null,
       "isJsonSchema": true,
       "metadata": {
        "isDbfsCommandResult": false
       },
       "overflow": false,
       "plotOptions": {
        "customPlotOptions": {},
        "displayType": "table",
        "pivotAggregation": null,
        "pivotColumns": null,
        "xColumns": null,
        "yColumns": null
       },
       "removedWidgets": [],
       "schema": [
        {
         "metadata": "{}",
         "name": "AgentID",
         "type": "\"integer\""
        },
        {
         "metadata": "{\"__CHAR_VARCHAR_TYPE_STRING\":\"varchar(50)\"}",
         "name": "FirstName",
         "type": "\"string\""
        },
        {
         "metadata": "{\"__CHAR_VARCHAR_TYPE_STRING\":\"varchar(50)\"}",
         "name": "LastName",
         "type": "\"string\""
        },
        {
         "metadata": "{\"__CHAR_VARCHAR_TYPE_STRING\":\"varchar(100)\"}",
         "name": "Email",
         "type": "\"string\""
        },
        {
         "metadata": "{\"__CHAR_VARCHAR_TYPE_STRING\":\"varchar(50)\"}",
         "name": "JobTitle",
         "type": "\"string\""
        },
        {
         "metadata": "{\"__CHAR_VARCHAR_TYPE_STRING\":\"varchar(50)\"}",
         "name": "DepartmentName",
         "type": "\"string\""
        },
        {
         "metadata": "{\"__CHAR_VARCHAR_TYPE_STRING\":\"varchar(100)\"}",
         "name": "ManagerName",
         "type": "\"string\""
        },
        {
         "metadata": "{\"__CHAR_VARCHAR_TYPE_STRING\":\"varchar(20)\"}",
         "name": "SpaceLicenseNumber",
         "type": "\"string\""
        },
        {
         "metadata": "{}",
         "name": "YearsOfService",
         "type": "\"integer\""
        },
        {
         "metadata": "{}",
         "name": "AverageCustomerServiceRating",
         "type": "\"float\""
        }
       ],
       "type": "table"
      }
     },
     "output_type": "display_data"
    }
   ],
   "source": [
    "select * from space_travel_agents limit 10;"
   ]
  },
  {
   "cell_type": "markdown",
   "metadata": {
    "application/vnd.databricks.v1+cell": {
     "cellMetadata": {},
     "inputWidgets": {},
     "nuid": "abfbaacb-2d62-44ca-8223-bd010be2c084",
     "showTitle": false,
     "tableResultSettingsMap": {},
     "title": ""
    }
   },
   "source": [
    "## Best Agent by Customer Rating\n",
    "I'm making an assumption about how we consider each agent the \"best\". For this test, I decided to use customer rating"
   ]
  },
  {
   "cell_type": "markdown",
   "metadata": {
    "application/vnd.databricks.v1+cell": {
     "cellMetadata": {},
     "inputWidgets": {},
     "nuid": "245f75cf-1355-4caf-9b5d-402093a90ef0",
     "showTitle": false,
     "tableResultSettingsMap": {},
     "title": ""
    }
   },
   "source": [
    "This was my first attempt at ranking the agents. As you can see, since it is only ranking by AverageCustomerServerRating and we have multiple people with the same ranking."
   ]
  },
  {
   "cell_type": "code",
   "execution_count": 0,
   "metadata": {
    "application/vnd.databricks.v1+cell": {
     "cellMetadata": {
      "byteLimit": 2048000,
      "rowLimit": 10000
     },
     "inputWidgets": {},
     "nuid": "edf4e9f9-b2f7-4794-9817-7315ceade852",
     "showTitle": false,
     "tableResultSettingsMap": {},
     "title": ""
    }
   },
   "outputs": [
    {
     "output_type": "display_data",
     "data": {
      "text/html": [
       "<style scoped>\n",
       "  .table-result-container {\n",
       "    max-height: 300px;\n",
       "    overflow: auto;\n",
       "  }\n",
       "  table, th, td {\n",
       "    border: 1px solid black;\n",
       "    border-collapse: collapse;\n",
       "  }\n",
       "  th, td {\n",
       "    padding: 5px;\n",
       "  }\n",
       "  th {\n",
       "    text-align: left;\n",
       "  }\n",
       "</style><div class='table-result-container'><table class='table-result'><thead style='background-color: white'><tr><th>AgentID</th><th>FirstName</th><th>LastName</th><th>CustomerServiceRating</th></tr></thead><tbody><tr><td>23</td><td>Cassian</td><td>Ward</td><td>1</td></tr><tr><td>12</td><td>Nia</td><td>Ramirez</td><td>1</td></tr><tr><td>28</td><td>Mila</td><td>Reed</td><td>3</td></tr><tr><td>22</td><td>Juno</td><td>Brooks</td><td>4</td></tr><tr><td>11</td><td>Elias</td><td>Walker</td><td>5</td></tr><tr><td>19</td><td>Calypso</td><td>White</td><td>5</td></tr><tr><td>6</td><td>Soren</td><td>Baker</td><td>7</td></tr><tr><td>7</td><td>Mira</td><td>Patel</td><td>8</td></tr><tr><td>8</td><td>Orion</td><td>Davis</td><td>9</td></tr><tr><td>9</td><td>Luna</td><td>Martinez</td><td>9</td></tr><tr><td>20</td><td>Orla</td><td>Patel</td><td>9</td></tr><tr><td>25</td><td>Enzo</td><td>Nguyen</td><td>9</td></tr><tr><td>13</td><td>Atlas</td><td>Foster</td><td>13</td></tr><tr><td>29</td><td>Sage</td><td>Cooper</td><td>13</td></tr><tr><td>24</td><td>Phoebe</td><td>Diaz</td><td>13</td></tr><tr><td>21</td><td>Arlo</td><td>Scott</td><td>16</td></tr><tr><td>14</td><td>Selene</td><td>Ali</td><td>16</td></tr><tr><td>15</td><td>Rhea</td><td>Chen</td><td>18</td></tr><tr><td>1</td><td>Aurora</td><td>Tanaka</td><td>19</td></tr><tr><td>18</td><td>Dax</td><td>Reyes</td><td>19</td></tr><tr><td>16</td><td>Zion</td><td>Parker</td><td>19</td></tr><tr><td>10</td><td>Zara</td><td>Khan</td><td>19</td></tr><tr><td>4</td><td>Leo</td><td>Kim</td><td>19</td></tr><tr><td>2</td><td>Kai</td><td>Rodriguez</td><td>19</td></tr><tr><td>3</td><td>Nova</td><td>Singh</td><td>19</td></tr><tr><td>27</td><td>Ronan</td><td>Young</td><td>19</td></tr><tr><td>5</td><td>Vera</td><td>Nguyen</td><td>27</td></tr><tr><td>26</td><td>Vega</td><td>Price</td><td>28</td></tr><tr><td>30</td><td>Zuri</td><td>Bennett</td><td>29</td></tr><tr><td>17</td><td>Lyra</td><td>Morgan</td><td>30</td></tr></tbody></table></div>"
      ]
     },
     "metadata": {
      "application/vnd.databricks.v1+output": {
       "addedWidgets": {},
       "aggData": [],
       "aggError": "",
       "aggOverflow": false,
       "aggSchema": [],
       "aggSeriesLimitReached": false,
       "aggType": "",
       "arguments": {},
       "columnCustomDisplayInfos": {},
       "data": [
        [
         23,
         "Cassian",
         "Ward",
         1
        ],
        [
         12,
         "Nia",
         "Ramirez",
         1
        ],
        [
         28,
         "Mila",
         "Reed",
         3
        ],
        [
         22,
         "Juno",
         "Brooks",
         4
        ],
        [
         11,
         "Elias",
         "Walker",
         5
        ],
        [
         19,
         "Calypso",
         "White",
         5
        ],
        [
         6,
         "Soren",
         "Baker",
         7
        ],
        [
         7,
         "Mira",
         "Patel",
         8
        ],
        [
         8,
         "Orion",
         "Davis",
         9
        ],
        [
         9,
         "Luna",
         "Martinez",
         9
        ],
        [
         20,
         "Orla",
         "Patel",
         9
        ],
        [
         25,
         "Enzo",
         "Nguyen",
         9
        ],
        [
         13,
         "Atlas",
         "Foster",
         13
        ],
        [
         29,
         "Sage",
         "Cooper",
         13
        ],
        [
         24,
         "Phoebe",
         "Diaz",
         13
        ],
        [
         21,
         "Arlo",
         "Scott",
         16
        ],
        [
         14,
         "Selene",
         "Ali",
         16
        ],
        [
         15,
         "Rhea",
         "Chen",
         18
        ],
        [
         1,
         "Aurora",
         "Tanaka",
         19
        ],
        [
         18,
         "Dax",
         "Reyes",
         19
        ],
        [
         16,
         "Zion",
         "Parker",
         19
        ],
        [
         10,
         "Zara",
         "Khan",
         19
        ],
        [
         4,
         "Leo",
         "Kim",
         19
        ],
        [
         2,
         "Kai",
         "Rodriguez",
         19
        ],
        [
         3,
         "Nova",
         "Singh",
         19
        ],
        [
         27,
         "Ronan",
         "Young",
         19
        ],
        [
         5,
         "Vera",
         "Nguyen",
         27
        ],
        [
         26,
         "Vega",
         "Price",
         28
        ],
        [
         30,
         "Zuri",
         "Bennett",
         29
        ],
        [
         17,
         "Lyra",
         "Morgan",
         30
        ]
       ],
       "datasetInfos": [],
       "dbfsResultPath": null,
       "isJsonSchema": true,
       "metadata": {
        "isDbfsCommandResult": false
       },
       "overflow": false,
       "plotOptions": {
        "customPlotOptions": {},
        "displayType": "table",
        "pivotAggregation": null,
        "pivotColumns": null,
        "xColumns": null,
        "yColumns": null
       },
       "removedWidgets": [],
       "schema": [
        {
         "metadata": "{}",
         "name": "AgentID",
         "type": "\"integer\""
        },
        {
         "metadata": "{\"__CHAR_VARCHAR_TYPE_STRING\":\"varchar(50)\"}",
         "name": "FirstName",
         "type": "\"string\""
        },
        {
         "metadata": "{\"__CHAR_VARCHAR_TYPE_STRING\":\"varchar(50)\"}",
         "name": "LastName",
         "type": "\"string\""
        },
        {
         "metadata": "{}",
         "name": "CustomerServiceRating",
         "type": "\"integer\""
        }
       ],
       "type": "table"
      }
     },
     "output_type": "display_data"
    }
   ],
   "source": [
    "SELECT\n",
    "  AgentID\n",
    "\t, FirstName\n",
    "\t, LastName\n",
    "\t, RANK() OVER (ORDER BY SUM(AverageCustomerServiceRating) DESC) AS CustomerServiceRating\n",
    "FROM\n",
    "  space_travel_agents\n",
    "GROUP BY AgentID, FirstName, LastName\n",
    "ORDER BY\n",
    "  CustomerServiceRating;"
   ]
  },
  {
   "cell_type": "markdown",
   "metadata": {
    "application/vnd.databricks.v1+cell": {
     "cellMetadata": {},
     "inputWidgets": {},
     "nuid": "21ab2801-8880-498e-adcb-50fc7bdff06b",
     "showTitle": false,
     "tableResultSettingsMap": {},
     "title": ""
    }
   },
   "source": [
    "## Attempt 2: Adding TotalRevenue \n",
    "\n",
    "To get a more accurate picture of how the agents should be ranked, I added TotalRevenue from the Bookings table. \n",
    "\n",
    "This table collects the data for the next step:\n",
    "\n"
   ]
  },
  {
   "cell_type": "code",
   "execution_count": 0,
   "metadata": {
    "application/vnd.databricks.v1+cell": {
     "cellMetadata": {
      "byteLimit": 2048000,
      "rowLimit": 10000
     },
     "inputWidgets": {},
     "nuid": "b0f83a0d-61c9-4bb0-8fa2-5a8d3081d4bb",
     "showTitle": false,
     "tableResultSettingsMap": {
      "0": {
       "dataGridStateBlob": "{\"version\":1,\"tableState\":{\"columnPinning\":{\"left\":[\"#row_number#\"],\"right\":[]},\"columnSizing\":{},\"columnVisibility\":{}},\"settings\":{\"columns\":{}},\"syncTimestamp\":1752416069478}",
       "filterBlob": null,
       "queryPlanFiltersBlob": null,
       "tableResultIndex": 0
      }
     },
     "title": ""
    }
   },
   "outputs": [
    {
     "output_type": "display_data",
     "data": {
      "text/html": [
       "<style scoped>\n",
       "  .table-result-container {\n",
       "    max-height: 300px;\n",
       "    overflow: auto;\n",
       "  }\n",
       "  table, th, td {\n",
       "    border: 1px solid black;\n",
       "    border-collapse: collapse;\n",
       "  }\n",
       "  th, td {\n",
       "    padding: 5px;\n",
       "  }\n",
       "  th {\n",
       "    text-align: left;\n",
       "  }\n",
       "</style><div class='table-result-container'><table class='table-result'><thead style='background-color: white'><tr><th>AgentID</th><th>FirstName</th><th>LastName</th><th>AverageCustomerServiceRating</th><th>TotalRevenue</th></tr></thead><tbody><tr><td>13</td><td>Atlas</td><td>Foster</td><td>4.3</td><td>1595000.00</td></tr><tr><td>6</td><td>Soren</td><td>Baker</td><td>4.6</td><td>1850000.00</td></tr><tr><td>3</td><td>Nova</td><td>Singh</td><td>4.0</td><td>1795000.00</td></tr><tr><td>12</td><td>Nia</td><td>Ramirez</td><td>5.0</td><td>1725000.00</td></tr><tr><td>26</td><td>Vega</td><td>Price</td><td>3.8</td><td>1300000.00</td></tr><tr><td>7</td><td>Mira</td><td>Patel</td><td>4.5</td><td>1765000.00</td></tr><tr><td>23</td><td>Cassian</td><td>Ward</td><td>5.0</td><td>1725000.00</td></tr><tr><td>30</td><td>Zuri</td><td>Bennett</td><td>3.7</td><td>1370000.00</td></tr><tr><td>25</td><td>Enzo</td><td>Nguyen</td><td>4.4</td><td>1595000.00</td></tr><tr><td>4</td><td>Leo</td><td>Kim</td><td>4.0</td><td>1380000.00</td></tr><tr><td>8</td><td>Orion</td><td>Davis</td><td>4.4</td><td>1295000.00</td></tr><tr><td>28</td><td>Mila</td><td>Reed</td><td>4.9</td><td>1695000.00</td></tr><tr><td>1</td><td>Aurora</td><td>Tanaka</td><td>4.0</td><td>1450000.00</td></tr><tr><td>2</td><td>Kai</td><td>Rodriguez</td><td>4.0</td><td>1315000.00</td></tr><tr><td>17</td><td>Lyra</td><td>Morgan</td><td>3.3</td><td>1930000.00</td></tr><tr><td>16</td><td>Zion</td><td>Parker</td><td>4.0</td><td>965000.00</td></tr><tr><td>20</td><td>Orla</td><td>Patel</td><td>4.4</td><td>1555000.00</td></tr><tr><td>15</td><td>Rhea</td><td>Chen</td><td>4.1</td><td>1415000.00</td></tr><tr><td>10</td><td>Zara</td><td>Khan</td><td>4.0</td><td>1310000.00</td></tr><tr><td>18</td><td>Dax</td><td>Reyes</td><td>4.0</td><td>1425000.00</td></tr><tr><td>5</td><td>Vera</td><td>Nguyen</td><td>3.9</td><td>1740000.00</td></tr><tr><td>29</td><td>Sage</td><td>Cooper</td><td>4.3</td><td>1110000.00</td></tr><tr><td>19</td><td>Calypso</td><td>White</td><td>4.7</td><td>1950000.00</td></tr><tr><td>27</td><td>Ronan</td><td>Young</td><td>4.0</td><td>1795000.00</td></tr><tr><td>9</td><td>Luna</td><td>Martinez</td><td>4.4</td><td>1475000.00</td></tr><tr><td>21</td><td>Arlo</td><td>Scott</td><td>4.2</td><td>1290000.00</td></tr><tr><td>22</td><td>Juno</td><td>Brooks</td><td>4.8</td><td>1480000.00</td></tr><tr><td>24</td><td>Phoebe</td><td>Diaz</td><td>4.3</td><td>1625000.00</td></tr><tr><td>11</td><td>Elias</td><td>Walker</td><td>4.7</td><td>1675000.00</td></tr><tr><td>14</td><td>Selene</td><td>Ali</td><td>4.2</td><td>1435000.00</td></tr></tbody></table></div>"
      ]
     },
     "metadata": {
      "application/vnd.databricks.v1+output": {
       "addedWidgets": {},
       "aggData": [],
       "aggError": "",
       "aggOverflow": false,
       "aggSchema": [],
       "aggSeriesLimitReached": false,
       "aggType": "",
       "arguments": {},
       "columnCustomDisplayInfos": {},
       "data": [
        [
         13,
         "Atlas",
         "Foster",
         4.3,
         "1595000.00"
        ],
        [
         6,
         "Soren",
         "Baker",
         4.6,
         "1850000.00"
        ],
        [
         3,
         "Nova",
         "Singh",
         4.0,
         "1795000.00"
        ],
        [
         12,
         "Nia",
         "Ramirez",
         5.0,
         "1725000.00"
        ],
        [
         26,
         "Vega",
         "Price",
         3.8,
         "1300000.00"
        ],
        [
         7,
         "Mira",
         "Patel",
         4.5,
         "1765000.00"
        ],
        [
         23,
         "Cassian",
         "Ward",
         5.0,
         "1725000.00"
        ],
        [
         30,
         "Zuri",
         "Bennett",
         3.7,
         "1370000.00"
        ],
        [
         25,
         "Enzo",
         "Nguyen",
         4.4,
         "1595000.00"
        ],
        [
         4,
         "Leo",
         "Kim",
         4.0,
         "1380000.00"
        ],
        [
         8,
         "Orion",
         "Davis",
         4.4,
         "1295000.00"
        ],
        [
         28,
         "Mila",
         "Reed",
         4.9,
         "1695000.00"
        ],
        [
         1,
         "Aurora",
         "Tanaka",
         4.0,
         "1450000.00"
        ],
        [
         2,
         "Kai",
         "Rodriguez",
         4.0,
         "1315000.00"
        ],
        [
         17,
         "Lyra",
         "Morgan",
         3.3,
         "1930000.00"
        ],
        [
         16,
         "Zion",
         "Parker",
         4.0,
         "965000.00"
        ],
        [
         20,
         "Orla",
         "Patel",
         4.4,
         "1555000.00"
        ],
        [
         15,
         "Rhea",
         "Chen",
         4.1,
         "1415000.00"
        ],
        [
         10,
         "Zara",
         "Khan",
         4.0,
         "1310000.00"
        ],
        [
         18,
         "Dax",
         "Reyes",
         4.0,
         "1425000.00"
        ],
        [
         5,
         "Vera",
         "Nguyen",
         3.9,
         "1740000.00"
        ],
        [
         29,
         "Sage",
         "Cooper",
         4.3,
         "1110000.00"
        ],
        [
         19,
         "Calypso",
         "White",
         4.7,
         "1950000.00"
        ],
        [
         27,
         "Ronan",
         "Young",
         4.0,
         "1795000.00"
        ],
        [
         9,
         "Luna",
         "Martinez",
         4.4,
         "1475000.00"
        ],
        [
         21,
         "Arlo",
         "Scott",
         4.2,
         "1290000.00"
        ],
        [
         22,
         "Juno",
         "Brooks",
         4.8,
         "1480000.00"
        ],
        [
         24,
         "Phoebe",
         "Diaz",
         4.3,
         "1625000.00"
        ],
        [
         11,
         "Elias",
         "Walker",
         4.7,
         "1675000.00"
        ],
        [
         14,
         "Selene",
         "Ali",
         4.2,
         "1435000.00"
        ]
       ],
       "datasetInfos": [],
       "dbfsResultPath": null,
       "isJsonSchema": true,
       "metadata": {
        "isDbfsCommandResult": false
       },
       "overflow": false,
       "plotOptions": {
        "customPlotOptions": {},
        "displayType": "table",
        "pivotAggregation": null,
        "pivotColumns": null,
        "xColumns": null,
        "yColumns": null
       },
       "removedWidgets": [],
       "schema": [
        {
         "metadata": "{}",
         "name": "AgentID",
         "type": "\"integer\""
        },
        {
         "metadata": "{\"__CHAR_VARCHAR_TYPE_STRING\":\"varchar(50)\"}",
         "name": "FirstName",
         "type": "\"string\""
        },
        {
         "metadata": "{\"__CHAR_VARCHAR_TYPE_STRING\":\"varchar(50)\"}",
         "name": "LastName",
         "type": "\"string\""
        },
        {
         "metadata": "{}",
         "name": "AverageCustomerServiceRating",
         "type": "\"float\""
        },
        {
         "metadata": "{}",
         "name": "TotalRevenue",
         "type": "\"decimal(22,2)\""
        }
       ],
       "type": "table"
      }
     },
     "output_type": "display_data"
    }
   ],
   "source": [
    "--select AssignmentID, AgentID from assignment_history limit 10;\n",
    "--select BookingID, AssignmentID, BookingStatus  from bookings where BookingStatus = 'Confirmed';\n",
    "--select AgentID, FirstName,LastName, AverageCustomerServiceRating from space_travel_agents limit 10;\n",
    "\n",
    "select space_travel_agents.AgentID\n",
    "      , space_travel_agents.FirstName\n",
    "      , space_travel_agents.LastName\n",
    "      , space_travel_agents.AverageCustomerServiceRating\n",
    "      , sum(bookings.TotalRevenue) as TotalRevenue \n",
    "from bookings \n",
    "inner join assignment_history on bookings.AssignmentID = assignment_history.AssignmentID\n",
    "inner join space_travel_agents on assignment_history.AgentID = space_travel_agents.AgentID\n",
    "where BookingStatus = 'Confirmed' \n",
    "group by space_travel_agents.AgentID, space_travel_agents.FirstName, space_travel_agents.LastName, space_travel_agents.AverageCustomerServiceRating;\n",
    "\n",
    "\n"
   ]
  },
  {
   "cell_type": "markdown",
   "metadata": {
    "application/vnd.databricks.v1+cell": {
     "cellMetadata": {},
     "inputWidgets": {},
     "nuid": "f4c74c56-eb54-4e39-ac04-d4a1e8918367",
     "showTitle": false,
     "tableResultSettingsMap": {},
     "title": ""
    }
   },
   "source": [
    "## Best Agent by Customer Rating and Total Revenue\n",
    "\n"
   ]
  },
  {
   "cell_type": "code",
   "execution_count": 0,
   "metadata": {
    "application/vnd.databricks.v1+cell": {
     "cellMetadata": {
      "byteLimit": 2048000,
      "rowLimit": 10000
     },
     "inputWidgets": {},
     "nuid": "274cbb0b-aa60-4b41-a264-72f693419b8d",
     "showTitle": false,
     "tableResultSettingsMap": {},
     "title": ""
    }
   },
   "outputs": [
    {
     "output_type": "display_data",
     "data": {
      "text/html": [
       "<style scoped>\n",
       "  .table-result-container {\n",
       "    max-height: 300px;\n",
       "    overflow: auto;\n",
       "  }\n",
       "  table, th, td {\n",
       "    border: 1px solid black;\n",
       "    border-collapse: collapse;\n",
       "  }\n",
       "  th, td {\n",
       "    padding: 5px;\n",
       "  }\n",
       "  th {\n",
       "    text-align: left;\n",
       "  }\n",
       "</style><div class='table-result-container'><table class='table-result'><thead style='background-color: white'><tr><th>AgentID</th><th>FirstName</th><th>LastName</th><th>AverageCustomerServiceRating</th><th>TotalRevenue</th><th>AgentRank</th></tr></thead><tbody><tr><td>12</td><td>Nia</td><td>Ramirez</td><td>5.0</td><td>1725000.00</td><td>1</td></tr><tr><td>23</td><td>Cassian</td><td>Ward</td><td>5.0</td><td>1725000.00</td><td>1</td></tr><tr><td>28</td><td>Mila</td><td>Reed</td><td>4.9</td><td>1695000.00</td><td>3</td></tr><tr><td>22</td><td>Juno</td><td>Brooks</td><td>4.8</td><td>1480000.00</td><td>4</td></tr><tr><td>19</td><td>Calypso</td><td>White</td><td>4.7</td><td>1950000.00</td><td>5</td></tr><tr><td>11</td><td>Elias</td><td>Walker</td><td>4.7</td><td>1675000.00</td><td>6</td></tr><tr><td>6</td><td>Soren</td><td>Baker</td><td>4.6</td><td>1850000.00</td><td>7</td></tr><tr><td>7</td><td>Mira</td><td>Patel</td><td>4.5</td><td>1765000.00</td><td>8</td></tr><tr><td>25</td><td>Enzo</td><td>Nguyen</td><td>4.4</td><td>1595000.00</td><td>9</td></tr><tr><td>20</td><td>Orla</td><td>Patel</td><td>4.4</td><td>1555000.00</td><td>10</td></tr><tr><td>9</td><td>Luna</td><td>Martinez</td><td>4.4</td><td>1475000.00</td><td>11</td></tr><tr><td>8</td><td>Orion</td><td>Davis</td><td>4.4</td><td>1295000.00</td><td>12</td></tr><tr><td>24</td><td>Phoebe</td><td>Diaz</td><td>4.3</td><td>1625000.00</td><td>13</td></tr><tr><td>13</td><td>Atlas</td><td>Foster</td><td>4.3</td><td>1595000.00</td><td>14</td></tr><tr><td>29</td><td>Sage</td><td>Cooper</td><td>4.3</td><td>1110000.00</td><td>15</td></tr><tr><td>14</td><td>Selene</td><td>Ali</td><td>4.2</td><td>1435000.00</td><td>16</td></tr><tr><td>21</td><td>Arlo</td><td>Scott</td><td>4.2</td><td>1290000.00</td><td>17</td></tr><tr><td>15</td><td>Rhea</td><td>Chen</td><td>4.1</td><td>1415000.00</td><td>18</td></tr><tr><td>3</td><td>Nova</td><td>Singh</td><td>4.0</td><td>1795000.00</td><td>19</td></tr><tr><td>27</td><td>Ronan</td><td>Young</td><td>4.0</td><td>1795000.00</td><td>19</td></tr><tr><td>1</td><td>Aurora</td><td>Tanaka</td><td>4.0</td><td>1450000.00</td><td>21</td></tr><tr><td>18</td><td>Dax</td><td>Reyes</td><td>4.0</td><td>1425000.00</td><td>22</td></tr><tr><td>4</td><td>Leo</td><td>Kim</td><td>4.0</td><td>1380000.00</td><td>23</td></tr><tr><td>2</td><td>Kai</td><td>Rodriguez</td><td>4.0</td><td>1315000.00</td><td>24</td></tr><tr><td>10</td><td>Zara</td><td>Khan</td><td>4.0</td><td>1310000.00</td><td>25</td></tr><tr><td>16</td><td>Zion</td><td>Parker</td><td>4.0</td><td>965000.00</td><td>26</td></tr><tr><td>5</td><td>Vera</td><td>Nguyen</td><td>3.9</td><td>1740000.00</td><td>27</td></tr><tr><td>26</td><td>Vega</td><td>Price</td><td>3.8</td><td>1300000.00</td><td>28</td></tr><tr><td>30</td><td>Zuri</td><td>Bennett</td><td>3.7</td><td>1370000.00</td><td>29</td></tr><tr><td>17</td><td>Lyra</td><td>Morgan</td><td>3.3</td><td>1930000.00</td><td>30</td></tr></tbody></table></div>"
      ]
     },
     "metadata": {
      "application/vnd.databricks.v1+output": {
       "addedWidgets": {},
       "aggData": [],
       "aggError": "",
       "aggOverflow": false,
       "aggSchema": [],
       "aggSeriesLimitReached": false,
       "aggType": "",
       "arguments": {},
       "columnCustomDisplayInfos": {},
       "data": [
        [
         12,
         "Nia",
         "Ramirez",
         5.0,
         "1725000.00",
         1
        ],
        [
         23,
         "Cassian",
         "Ward",
         5.0,
         "1725000.00",
         1
        ],
        [
         28,
         "Mila",
         "Reed",
         4.9,
         "1695000.00",
         3
        ],
        [
         22,
         "Juno",
         "Brooks",
         4.8,
         "1480000.00",
         4
        ],
        [
         19,
         "Calypso",
         "White",
         4.7,
         "1950000.00",
         5
        ],
        [
         11,
         "Elias",
         "Walker",
         4.7,
         "1675000.00",
         6
        ],
        [
         6,
         "Soren",
         "Baker",
         4.6,
         "1850000.00",
         7
        ],
        [
         7,
         "Mira",
         "Patel",
         4.5,
         "1765000.00",
         8
        ],
        [
         25,
         "Enzo",
         "Nguyen",
         4.4,
         "1595000.00",
         9
        ],
        [
         20,
         "Orla",
         "Patel",
         4.4,
         "1555000.00",
         10
        ],
        [
         9,
         "Luna",
         "Martinez",
         4.4,
         "1475000.00",
         11
        ],
        [
         8,
         "Orion",
         "Davis",
         4.4,
         "1295000.00",
         12
        ],
        [
         24,
         "Phoebe",
         "Diaz",
         4.3,
         "1625000.00",
         13
        ],
        [
         13,
         "Atlas",
         "Foster",
         4.3,
         "1595000.00",
         14
        ],
        [
         29,
         "Sage",
         "Cooper",
         4.3,
         "1110000.00",
         15
        ],
        [
         14,
         "Selene",
         "Ali",
         4.2,
         "1435000.00",
         16
        ],
        [
         21,
         "Arlo",
         "Scott",
         4.2,
         "1290000.00",
         17
        ],
        [
         15,
         "Rhea",
         "Chen",
         4.1,
         "1415000.00",
         18
        ],
        [
         3,
         "Nova",
         "Singh",
         4.0,
         "1795000.00",
         19
        ],
        [
         27,
         "Ronan",
         "Young",
         4.0,
         "1795000.00",
         19
        ],
        [
         1,
         "Aurora",
         "Tanaka",
         4.0,
         "1450000.00",
         21
        ],
        [
         18,
         "Dax",
         "Reyes",
         4.0,
         "1425000.00",
         22
        ],
        [
         4,
         "Leo",
         "Kim",
         4.0,
         "1380000.00",
         23
        ],
        [
         2,
         "Kai",
         "Rodriguez",
         4.0,
         "1315000.00",
         24
        ],
        [
         10,
         "Zara",
         "Khan",
         4.0,
         "1310000.00",
         25
        ],
        [
         16,
         "Zion",
         "Parker",
         4.0,
         "965000.00",
         26
        ],
        [
         5,
         "Vera",
         "Nguyen",
         3.9,
         "1740000.00",
         27
        ],
        [
         26,
         "Vega",
         "Price",
         3.8,
         "1300000.00",
         28
        ],
        [
         30,
         "Zuri",
         "Bennett",
         3.7,
         "1370000.00",
         29
        ],
        [
         17,
         "Lyra",
         "Morgan",
         3.3,
         "1930000.00",
         30
        ]
       ],
       "datasetInfos": [],
       "dbfsResultPath": null,
       "isJsonSchema": true,
       "metadata": {
        "isDbfsCommandResult": false
       },
       "overflow": false,
       "plotOptions": {
        "customPlotOptions": {},
        "displayType": "table",
        "pivotAggregation": null,
        "pivotColumns": null,
        "xColumns": null,
        "yColumns": null
       },
       "removedWidgets": [],
       "schema": [
        {
         "metadata": "{}",
         "name": "AgentID",
         "type": "\"integer\""
        },
        {
         "metadata": "{\"__CHAR_VARCHAR_TYPE_STRING\":\"varchar(50)\"}",
         "name": "FirstName",
         "type": "\"string\""
        },
        {
         "metadata": "{\"__CHAR_VARCHAR_TYPE_STRING\":\"varchar(50)\"}",
         "name": "LastName",
         "type": "\"string\""
        },
        {
         "metadata": "{}",
         "name": "AverageCustomerServiceRating",
         "type": "\"float\""
        },
        {
         "metadata": "{}",
         "name": "TotalRevenue",
         "type": "\"decimal(22,2)\""
        },
        {
         "metadata": "{}",
         "name": "AgentRank",
         "type": "\"integer\""
        }
       ],
       "type": "table"
      }
     },
     "output_type": "display_data"
    }
   ],
   "source": [
    "SELECT \n",
    "    AgentID,\n",
    "    FirstName,\n",
    "    LastName,\n",
    "    AverageCustomerServiceRating,\n",
    "    TotalRevenue,\n",
    "    RANK() OVER (\n",
    "        ORDER BY AverageCustomerServiceRating DESC, TotalRevenue DESC\n",
    "    ) AS AgentRank\n",
    "FROM (\n",
    "    SELECT \n",
    "        space_travel_agents.AgentID,\n",
    "        space_travel_agents.FirstName,\n",
    "        space_travel_agents.LastName,\n",
    "        space_travel_agents.AverageCustomerServiceRating,\n",
    "        SUM(bookings.TotalRevenue) AS TotalRevenue\n",
    "    FROM bookings \n",
    "    INNER JOIN assignment_history ON bookings.AssignmentID = assignment_history.AssignmentID\n",
    "    INNER JOIN space_travel_agents ON assignment_history.AgentID = space_travel_agents.AgentID\n",
    "    WHERE bookings.BookingStatus = 'Confirmed'\n",
    "    GROUP BY \n",
    "        space_travel_agents.AgentID, \n",
    "        space_travel_agents.FirstName, \n",
    "        space_travel_agents.LastName, \n",
    "        space_travel_agents.AverageCustomerServiceRating\n",
    ") AS RankedAgents\n",
    "ORDER BY AgentRank;\n"
   ]
  },
  {
   "cell_type": "markdown",
   "metadata": {
    "application/vnd.databricks.v1+cell": {
     "cellMetadata": {},
     "inputWidgets": {},
     "nuid": "f2c3fa33-3cc0-4cd1-baf1-3d9b1233789f",
     "showTitle": false,
     "tableResultSettingsMap": {},
     "title": ""
    }
   },
   "source": [
    "# Conclusion\n",
    "\n",
    "Hopefully, this notebook has demonstrated how I could approach a problem like this. \n",
    "\n",
    "Next steps would include finding out exactly how \"best\" is defined for this scenario so the notebook can be updated accordingly."
   ]
  }
 ],
 "metadata": {
  "application/vnd.databricks.v1+notebook": {
   "computePreferences": null,
   "dashboards": [],
   "environmentMetadata": {
    "base_environment": "",
    "environment_version": "2"
   },
   "inputWidgetPreferences": null,
   "language": "sql",
   "notebookMetadata": {
    "mostRecentlyExecutedCommandWithImplicitDF": {
     "commandId": 5841003123518267,
     "dataframes": [
      "_sqldf"
     ]
    },
    "pythonIndentUnit": 4
   },
   "notebookName": "AmeriSave",
   "widgets": {}
  },
  "language_info": {
   "name": "sql"
  }
 },
 "nbformat": 4,
 "nbformat_minor": 0
}